{
 "cells": [
  {
   "cell_type": "code",
   "execution_count": 35,
   "metadata": {},
   "outputs": [],
   "source": [
    "#data analysing phase\n",
    "import numpy as np\n",
    "import pandas as pd\n",
    "import seaborn as sns\n",
    "import matplotlib.pyplot as plt\n",
    "%matplotlib inline\n",
    "import missingno as msno\n",
    "pd.pandas.set_option('display.max_columns',None)\n",
    "import datetime\n",
    "from datetime import timedelta\n",
    "\n",
    "independent_feature = pd.read_csv(r'C:\\Users\\ATD\\OneDrive\\Desktop\\ML\\application_record.csv')\n",
    "dependent_feature = pd.read_csv(r'C:\\Users\\ATD\\OneDrive\\Desktop\\ML\\credit_record.csv')\n",
    "\n"
   ]
  },
  {
   "cell_type": "code",
   "execution_count": 36,
   "metadata": {},
   "outputs": [
    {
     "data": {
      "text/plain": [
       "(438557, 18)"
      ]
     },
     "execution_count": 36,
     "metadata": {},
     "output_type": "execute_result"
    }
   ],
   "source": [
    "independent_feature.shape\n",
    "\n"
   ]
  },
  {
   "cell_type": "markdown",
   "metadata": {},
   "source": []
  },
  {
   "cell_type": "code",
   "execution_count": 37,
   "metadata": {},
   "outputs": [
    {
     "data": {
      "text/html": [
       "<div>\n",
       "<style scoped>\n",
       "    .dataframe tbody tr th:only-of-type {\n",
       "        vertical-align: middle;\n",
       "    }\n",
       "\n",
       "    .dataframe tbody tr th {\n",
       "        vertical-align: top;\n",
       "    }\n",
       "\n",
       "    .dataframe thead th {\n",
       "        text-align: right;\n",
       "    }\n",
       "</style>\n",
       "<table border=\"1\" class=\"dataframe\">\n",
       "  <thead>\n",
       "    <tr style=\"text-align: right;\">\n",
       "      <th></th>\n",
       "      <th>ID</th>\n",
       "      <th>CODE_GENDER</th>\n",
       "      <th>FLAG_OWN_CAR</th>\n",
       "      <th>FLAG_OWN_REALTY</th>\n",
       "      <th>CNT_CHILDREN</th>\n",
       "      <th>AMT_INCOME_TOTAL</th>\n",
       "      <th>NAME_INCOME_TYPE</th>\n",
       "      <th>NAME_EDUCATION_TYPE</th>\n",
       "      <th>NAME_FAMILY_STATUS</th>\n",
       "      <th>NAME_HOUSING_TYPE</th>\n",
       "      <th>DAYS_BIRTH</th>\n",
       "      <th>DAYS_EMPLOYED</th>\n",
       "      <th>FLAG_MOBIL</th>\n",
       "      <th>FLAG_WORK_PHONE</th>\n",
       "      <th>FLAG_PHONE</th>\n",
       "      <th>FLAG_EMAIL</th>\n",
       "      <th>OCCUPATION_TYPE</th>\n",
       "      <th>CNT_FAM_MEMBERS</th>\n",
       "    </tr>\n",
       "  </thead>\n",
       "  <tbody>\n",
       "    <tr>\n",
       "      <th>0</th>\n",
       "      <td>5008804</td>\n",
       "      <td>M</td>\n",
       "      <td>Y</td>\n",
       "      <td>Y</td>\n",
       "      <td>0</td>\n",
       "      <td>427500.0</td>\n",
       "      <td>Working</td>\n",
       "      <td>Higher education</td>\n",
       "      <td>Civil marriage</td>\n",
       "      <td>Rented apartment</td>\n",
       "      <td>-12005</td>\n",
       "      <td>-4542</td>\n",
       "      <td>1</td>\n",
       "      <td>1</td>\n",
       "      <td>0</td>\n",
       "      <td>0</td>\n",
       "      <td>NaN</td>\n",
       "      <td>2.0</td>\n",
       "    </tr>\n",
       "    <tr>\n",
       "      <th>1</th>\n",
       "      <td>5008805</td>\n",
       "      <td>M</td>\n",
       "      <td>Y</td>\n",
       "      <td>Y</td>\n",
       "      <td>0</td>\n",
       "      <td>427500.0</td>\n",
       "      <td>Working</td>\n",
       "      <td>Higher education</td>\n",
       "      <td>Civil marriage</td>\n",
       "      <td>Rented apartment</td>\n",
       "      <td>-12005</td>\n",
       "      <td>-4542</td>\n",
       "      <td>1</td>\n",
       "      <td>1</td>\n",
       "      <td>0</td>\n",
       "      <td>0</td>\n",
       "      <td>NaN</td>\n",
       "      <td>2.0</td>\n",
       "    </tr>\n",
       "    <tr>\n",
       "      <th>2</th>\n",
       "      <td>5008806</td>\n",
       "      <td>M</td>\n",
       "      <td>Y</td>\n",
       "      <td>Y</td>\n",
       "      <td>0</td>\n",
       "      <td>112500.0</td>\n",
       "      <td>Working</td>\n",
       "      <td>Secondary / secondary special</td>\n",
       "      <td>Married</td>\n",
       "      <td>House / apartment</td>\n",
       "      <td>-21474</td>\n",
       "      <td>-1134</td>\n",
       "      <td>1</td>\n",
       "      <td>0</td>\n",
       "      <td>0</td>\n",
       "      <td>0</td>\n",
       "      <td>Security staff</td>\n",
       "      <td>2.0</td>\n",
       "    </tr>\n",
       "    <tr>\n",
       "      <th>3</th>\n",
       "      <td>5008808</td>\n",
       "      <td>F</td>\n",
       "      <td>N</td>\n",
       "      <td>Y</td>\n",
       "      <td>0</td>\n",
       "      <td>270000.0</td>\n",
       "      <td>Commercial associate</td>\n",
       "      <td>Secondary / secondary special</td>\n",
       "      <td>Single / not married</td>\n",
       "      <td>House / apartment</td>\n",
       "      <td>-19110</td>\n",
       "      <td>-3051</td>\n",
       "      <td>1</td>\n",
       "      <td>0</td>\n",
       "      <td>1</td>\n",
       "      <td>1</td>\n",
       "      <td>Sales staff</td>\n",
       "      <td>1.0</td>\n",
       "    </tr>\n",
       "    <tr>\n",
       "      <th>4</th>\n",
       "      <td>5008809</td>\n",
       "      <td>F</td>\n",
       "      <td>N</td>\n",
       "      <td>Y</td>\n",
       "      <td>0</td>\n",
       "      <td>270000.0</td>\n",
       "      <td>Commercial associate</td>\n",
       "      <td>Secondary / secondary special</td>\n",
       "      <td>Single / not married</td>\n",
       "      <td>House / apartment</td>\n",
       "      <td>-19110</td>\n",
       "      <td>-3051</td>\n",
       "      <td>1</td>\n",
       "      <td>0</td>\n",
       "      <td>1</td>\n",
       "      <td>1</td>\n",
       "      <td>Sales staff</td>\n",
       "      <td>1.0</td>\n",
       "    </tr>\n",
       "  </tbody>\n",
       "</table>\n",
       "</div>"
      ],
      "text/plain": [
       "        ID CODE_GENDER FLAG_OWN_CAR FLAG_OWN_REALTY  CNT_CHILDREN  \\\n",
       "0  5008804           M            Y               Y             0   \n",
       "1  5008805           M            Y               Y             0   \n",
       "2  5008806           M            Y               Y             0   \n",
       "3  5008808           F            N               Y             0   \n",
       "4  5008809           F            N               Y             0   \n",
       "\n",
       "   AMT_INCOME_TOTAL      NAME_INCOME_TYPE            NAME_EDUCATION_TYPE  \\\n",
       "0          427500.0               Working               Higher education   \n",
       "1          427500.0               Working               Higher education   \n",
       "2          112500.0               Working  Secondary / secondary special   \n",
       "3          270000.0  Commercial associate  Secondary / secondary special   \n",
       "4          270000.0  Commercial associate  Secondary / secondary special   \n",
       "\n",
       "     NAME_FAMILY_STATUS  NAME_HOUSING_TYPE  DAYS_BIRTH  DAYS_EMPLOYED  \\\n",
       "0        Civil marriage   Rented apartment      -12005          -4542   \n",
       "1        Civil marriage   Rented apartment      -12005          -4542   \n",
       "2               Married  House / apartment      -21474          -1134   \n",
       "3  Single / not married  House / apartment      -19110          -3051   \n",
       "4  Single / not married  House / apartment      -19110          -3051   \n",
       "\n",
       "   FLAG_MOBIL  FLAG_WORK_PHONE  FLAG_PHONE  FLAG_EMAIL OCCUPATION_TYPE  \\\n",
       "0           1                1           0           0             NaN   \n",
       "1           1                1           0           0             NaN   \n",
       "2           1                0           0           0  Security staff   \n",
       "3           1                0           1           1     Sales staff   \n",
       "4           1                0           1           1     Sales staff   \n",
       "\n",
       "   CNT_FAM_MEMBERS  \n",
       "0              2.0  \n",
       "1              2.0  \n",
       "2              2.0  \n",
       "3              1.0  \n",
       "4              1.0  "
      ]
     },
     "execution_count": 37,
     "metadata": {},
     "output_type": "execute_result"
    }
   ],
   "source": [
    "independent_feature.head()"
   ]
  },
  {
   "cell_type": "code",
   "execution_count": 38,
   "metadata": {},
   "outputs": [
    {
     "data": {
      "text/plain": [
       "(1048575, 3)"
      ]
     },
     "execution_count": 38,
     "metadata": {},
     "output_type": "execute_result"
    }
   ],
   "source": [
    "dependent_feature.shape\n"
   ]
  },
  {
   "cell_type": "code",
   "execution_count": 39,
   "metadata": {},
   "outputs": [
    {
     "data": {
      "text/html": [
       "<div>\n",
       "<style scoped>\n",
       "    .dataframe tbody tr th:only-of-type {\n",
       "        vertical-align: middle;\n",
       "    }\n",
       "\n",
       "    .dataframe tbody tr th {\n",
       "        vertical-align: top;\n",
       "    }\n",
       "\n",
       "    .dataframe thead th {\n",
       "        text-align: right;\n",
       "    }\n",
       "</style>\n",
       "<table border=\"1\" class=\"dataframe\">\n",
       "  <thead>\n",
       "    <tr style=\"text-align: right;\">\n",
       "      <th></th>\n",
       "      <th>ID</th>\n",
       "      <th>MONTHS_BALANCE</th>\n",
       "      <th>STATUS</th>\n",
       "    </tr>\n",
       "  </thead>\n",
       "  <tbody>\n",
       "    <tr>\n",
       "      <th>0</th>\n",
       "      <td>5001711</td>\n",
       "      <td>0</td>\n",
       "      <td>X</td>\n",
       "    </tr>\n",
       "    <tr>\n",
       "      <th>1</th>\n",
       "      <td>5001711</td>\n",
       "      <td>-1</td>\n",
       "      <td>0</td>\n",
       "    </tr>\n",
       "    <tr>\n",
       "      <th>2</th>\n",
       "      <td>5001711</td>\n",
       "      <td>-2</td>\n",
       "      <td>0</td>\n",
       "    </tr>\n",
       "    <tr>\n",
       "      <th>3</th>\n",
       "      <td>5001711</td>\n",
       "      <td>-3</td>\n",
       "      <td>0</td>\n",
       "    </tr>\n",
       "    <tr>\n",
       "      <th>4</th>\n",
       "      <td>5001712</td>\n",
       "      <td>0</td>\n",
       "      <td>C</td>\n",
       "    </tr>\n",
       "  </tbody>\n",
       "</table>\n",
       "</div>"
      ],
      "text/plain": [
       "        ID  MONTHS_BALANCE STATUS\n",
       "0  5001711               0      X\n",
       "1  5001711              -1      0\n",
       "2  5001711              -2      0\n",
       "3  5001711              -3      0\n",
       "4  5001712               0      C"
      ]
     },
     "execution_count": 39,
     "metadata": {},
     "output_type": "execute_result"
    }
   ],
   "source": [
    "dependent_feature.head()"
   ]
  },
  {
   "cell_type": "code",
   "execution_count": 40,
   "metadata": {},
   "outputs": [],
   "source": [
    "data = independent_feature.merge(dependent_feature,how='inner',on=['ID'])"
   ]
  },
  {
   "cell_type": "code",
   "execution_count": 41,
   "metadata": {},
   "outputs": [
    {
     "data": {
      "text/plain": [
       "(777715, 20)"
      ]
     },
     "execution_count": 41,
     "metadata": {},
     "output_type": "execute_result"
    }
   ],
   "source": [
    "data.shape"
   ]
  },
  {
   "cell_type": "code",
   "execution_count": 42,
   "metadata": {},
   "outputs": [],
   "source": [
    "data.rename(columns={'CODE_GENDER':'Gender','FLAG_OWN_CAR':'Car','FLAG_OWN_REALTY':'Reality',\n",
    "                         'CNT_CHILDREN':'ChldNo','AMT_INCOME_TOTAL':'inc',\n",
    "                         'NAME_EDUCATION_TYPE':'edutp','NAME_FAMILY_STATUS':'famtp',\n",
    "                        'NAME_HOUSING_TYPE':'houtp','FLAG_EMAIL':'email',\n",
    "                         'NAME_INCOME_TYPE':'inctp','FLAG_WORK_PHONE':'wkphone',\n",
    "                         'FLAG_PHONE':'phone','CNT_FAM_MEMBERS':'famsize',\n",
    "                        'OCCUPATION_TYPE':'occyp'\n",
    "                        },inplace=True)"
   ]
  },
  {
   "cell_type": "code",
   "execution_count": 43,
   "metadata": {},
   "outputs": [
    {
     "data": {
      "text/html": [
       "<div>\n",
       "<style scoped>\n",
       "    .dataframe tbody tr th:only-of-type {\n",
       "        vertical-align: middle;\n",
       "    }\n",
       "\n",
       "    .dataframe tbody tr th {\n",
       "        vertical-align: top;\n",
       "    }\n",
       "\n",
       "    .dataframe thead th {\n",
       "        text-align: right;\n",
       "    }\n",
       "</style>\n",
       "<table border=\"1\" class=\"dataframe\">\n",
       "  <thead>\n",
       "    <tr style=\"text-align: right;\">\n",
       "      <th></th>\n",
       "      <th>ID</th>\n",
       "      <th>Gender</th>\n",
       "      <th>Car</th>\n",
       "      <th>Reality</th>\n",
       "      <th>ChldNo</th>\n",
       "      <th>inc</th>\n",
       "      <th>inctp</th>\n",
       "      <th>edutp</th>\n",
       "      <th>famtp</th>\n",
       "      <th>houtp</th>\n",
       "      <th>DAYS_BIRTH</th>\n",
       "      <th>DAYS_EMPLOYED</th>\n",
       "      <th>FLAG_MOBIL</th>\n",
       "      <th>wkphone</th>\n",
       "      <th>phone</th>\n",
       "      <th>email</th>\n",
       "      <th>occyp</th>\n",
       "      <th>famsize</th>\n",
       "      <th>MONTHS_BALANCE</th>\n",
       "      <th>STATUS</th>\n",
       "    </tr>\n",
       "  </thead>\n",
       "  <tbody>\n",
       "    <tr>\n",
       "      <th>0</th>\n",
       "      <td>5008804</td>\n",
       "      <td>M</td>\n",
       "      <td>Y</td>\n",
       "      <td>Y</td>\n",
       "      <td>0</td>\n",
       "      <td>427500.0</td>\n",
       "      <td>Working</td>\n",
       "      <td>Higher education</td>\n",
       "      <td>Civil marriage</td>\n",
       "      <td>Rented apartment</td>\n",
       "      <td>-12005</td>\n",
       "      <td>-4542</td>\n",
       "      <td>1</td>\n",
       "      <td>1</td>\n",
       "      <td>0</td>\n",
       "      <td>0</td>\n",
       "      <td>NaN</td>\n",
       "      <td>2.0</td>\n",
       "      <td>0</td>\n",
       "      <td>C</td>\n",
       "    </tr>\n",
       "    <tr>\n",
       "      <th>1</th>\n",
       "      <td>5008804</td>\n",
       "      <td>M</td>\n",
       "      <td>Y</td>\n",
       "      <td>Y</td>\n",
       "      <td>0</td>\n",
       "      <td>427500.0</td>\n",
       "      <td>Working</td>\n",
       "      <td>Higher education</td>\n",
       "      <td>Civil marriage</td>\n",
       "      <td>Rented apartment</td>\n",
       "      <td>-12005</td>\n",
       "      <td>-4542</td>\n",
       "      <td>1</td>\n",
       "      <td>1</td>\n",
       "      <td>0</td>\n",
       "      <td>0</td>\n",
       "      <td>NaN</td>\n",
       "      <td>2.0</td>\n",
       "      <td>-1</td>\n",
       "      <td>C</td>\n",
       "    </tr>\n",
       "    <tr>\n",
       "      <th>2</th>\n",
       "      <td>5008804</td>\n",
       "      <td>M</td>\n",
       "      <td>Y</td>\n",
       "      <td>Y</td>\n",
       "      <td>0</td>\n",
       "      <td>427500.0</td>\n",
       "      <td>Working</td>\n",
       "      <td>Higher education</td>\n",
       "      <td>Civil marriage</td>\n",
       "      <td>Rented apartment</td>\n",
       "      <td>-12005</td>\n",
       "      <td>-4542</td>\n",
       "      <td>1</td>\n",
       "      <td>1</td>\n",
       "      <td>0</td>\n",
       "      <td>0</td>\n",
       "      <td>NaN</td>\n",
       "      <td>2.0</td>\n",
       "      <td>-2</td>\n",
       "      <td>C</td>\n",
       "    </tr>\n",
       "    <tr>\n",
       "      <th>3</th>\n",
       "      <td>5008804</td>\n",
       "      <td>M</td>\n",
       "      <td>Y</td>\n",
       "      <td>Y</td>\n",
       "      <td>0</td>\n",
       "      <td>427500.0</td>\n",
       "      <td>Working</td>\n",
       "      <td>Higher education</td>\n",
       "      <td>Civil marriage</td>\n",
       "      <td>Rented apartment</td>\n",
       "      <td>-12005</td>\n",
       "      <td>-4542</td>\n",
       "      <td>1</td>\n",
       "      <td>1</td>\n",
       "      <td>0</td>\n",
       "      <td>0</td>\n",
       "      <td>NaN</td>\n",
       "      <td>2.0</td>\n",
       "      <td>-3</td>\n",
       "      <td>C</td>\n",
       "    </tr>\n",
       "    <tr>\n",
       "      <th>4</th>\n",
       "      <td>5008804</td>\n",
       "      <td>M</td>\n",
       "      <td>Y</td>\n",
       "      <td>Y</td>\n",
       "      <td>0</td>\n",
       "      <td>427500.0</td>\n",
       "      <td>Working</td>\n",
       "      <td>Higher education</td>\n",
       "      <td>Civil marriage</td>\n",
       "      <td>Rented apartment</td>\n",
       "      <td>-12005</td>\n",
       "      <td>-4542</td>\n",
       "      <td>1</td>\n",
       "      <td>1</td>\n",
       "      <td>0</td>\n",
       "      <td>0</td>\n",
       "      <td>NaN</td>\n",
       "      <td>2.0</td>\n",
       "      <td>-4</td>\n",
       "      <td>C</td>\n",
       "    </tr>\n",
       "  </tbody>\n",
       "</table>\n",
       "</div>"
      ],
      "text/plain": [
       "        ID Gender Car Reality  ChldNo       inc    inctp             edutp  \\\n",
       "0  5008804      M   Y       Y       0  427500.0  Working  Higher education   \n",
       "1  5008804      M   Y       Y       0  427500.0  Working  Higher education   \n",
       "2  5008804      M   Y       Y       0  427500.0  Working  Higher education   \n",
       "3  5008804      M   Y       Y       0  427500.0  Working  Higher education   \n",
       "4  5008804      M   Y       Y       0  427500.0  Working  Higher education   \n",
       "\n",
       "            famtp             houtp  DAYS_BIRTH  DAYS_EMPLOYED  FLAG_MOBIL  \\\n",
       "0  Civil marriage  Rented apartment      -12005          -4542           1   \n",
       "1  Civil marriage  Rented apartment      -12005          -4542           1   \n",
       "2  Civil marriage  Rented apartment      -12005          -4542           1   \n",
       "3  Civil marriage  Rented apartment      -12005          -4542           1   \n",
       "4  Civil marriage  Rented apartment      -12005          -4542           1   \n",
       "\n",
       "   wkphone  phone  email occyp  famsize  MONTHS_BALANCE STATUS  \n",
       "0        1      0      0   NaN      2.0               0      C  \n",
       "1        1      0      0   NaN      2.0              -1      C  \n",
       "2        1      0      0   NaN      2.0              -2      C  \n",
       "3        1      0      0   NaN      2.0              -3      C  \n",
       "4        1      0      0   NaN      2.0              -4      C  "
      ]
     },
     "execution_count": 43,
     "metadata": {},
     "output_type": "execute_result"
    }
   ],
   "source": [
    "data.head()"
   ]
  },
  {
   "cell_type": "code",
   "execution_count": 44,
   "metadata": {},
   "outputs": [
    {
     "data": {
      "text/plain": [
       "STATUS\n",
       "C    329536\n",
       "0    290654\n",
       "X    145950\n",
       "1      8747\n",
       "5      1527\n",
       "2       801\n",
       "3       286\n",
       "4       214\n",
       "Name: count, dtype: int64"
      ]
     },
     "execution_count": 44,
     "metadata": {},
     "output_type": "execute_result"
    }
   ],
   "source": [
    "data['STATUS'].value_counts()"
   ]
  },
  {
   "cell_type": "code",
   "execution_count": 45,
   "metadata": {},
   "outputs": [
    {
     "data": {
      "text/plain": [
       "inctp\n",
       "Working                 400164\n",
       "Commercial associate    183385\n",
       "Pensioner               128392\n",
       "State servant            65437\n",
       "Student                    337\n",
       "Name: count, dtype: int64"
      ]
     },
     "execution_count": 45,
     "metadata": {},
     "output_type": "execute_result"
    }
   ],
   "source": [
    "data['inctp'].value_counts()"
   ]
  },
  {
   "cell_type": "code",
   "execution_count": 46,
   "metadata": {},
   "outputs": [
    {
     "data": {
      "text/plain": [
       "DAYS_EMPLOYED\n",
       " 365243    127972\n",
       "-1751        1601\n",
       "-1539        1545\n",
       "-401         1498\n",
       "-2531        1319\n",
       "            ...  \n",
       "-7765           1\n",
       "-616            1\n",
       "-738            1\n",
       "-9320           1\n",
       "-2848           1\n",
       "Name: count, Length: 3640, dtype: int64"
      ]
     },
     "execution_count": 46,
     "metadata": {},
     "output_type": "execute_result"
    }
   ],
   "source": [
    "data['DAYS_EMPLOYED'].value_counts()\n"
   ]
  },
  {
   "cell_type": "code",
   "execution_count": 47,
   "metadata": {},
   "outputs": [
    {
     "data": {
      "text/plain": [
       "occyp\n",
       "Laborers                 131572\n",
       "Core staff                77112\n",
       "Sales staff               70362\n",
       "Managers                  67738\n",
       "Drivers                   47678\n",
       "High skill tech staff     31768\n",
       "Accountants               27223\n",
       "Medicine staff            26691\n",
       "Cooking staff             13416\n",
       "Security staff            12400\n",
       "Cleaning staff            11399\n",
       "Private service staff      6714\n",
       "Low-skill Laborers         3623\n",
       "Secretaries                3149\n",
       "Waiters/barmen staff       2557\n",
       "HR staff                   1686\n",
       "IT staff                   1319\n",
       "Realty agents              1260\n",
       "Name: count, dtype: int64"
      ]
     },
     "execution_count": 47,
     "metadata": {},
     "output_type": "execute_result"
    }
   ],
   "source": [
    "data['occyp'].value_counts()"
   ]
  },
  {
   "cell_type": "code",
   "execution_count": 48,
   "metadata": {},
   "outputs": [
    {
     "name": "stdout",
     "output_type": "stream",
     "text": [
      "<class 'pandas.core.frame.DataFrame'>\n",
      "RangeIndex: 777715 entries, 0 to 777714\n",
      "Data columns (total 20 columns):\n",
      " #   Column          Non-Null Count   Dtype  \n",
      "---  ------          --------------   -----  \n",
      " 0   ID              777715 non-null  int64  \n",
      " 1   Gender          777715 non-null  object \n",
      " 2   Car             777715 non-null  object \n",
      " 3   Reality         777715 non-null  object \n",
      " 4   ChldNo          777715 non-null  int64  \n",
      " 5   inc             777715 non-null  float64\n",
      " 6   inctp           777715 non-null  object \n",
      " 7   edutp           777715 non-null  object \n",
      " 8   famtp           777715 non-null  object \n",
      " 9   houtp           777715 non-null  object \n",
      " 10  DAYS_BIRTH      777715 non-null  int64  \n",
      " 11  DAYS_EMPLOYED   777715 non-null  int64  \n",
      " 12  FLAG_MOBIL      777715 non-null  int64  \n",
      " 13  wkphone         777715 non-null  int64  \n",
      " 14  phone           777715 non-null  int64  \n",
      " 15  email           777715 non-null  int64  \n",
      " 16  occyp           537667 non-null  object \n",
      " 17  famsize         777715 non-null  float64\n",
      " 18  MONTHS_BALANCE  777715 non-null  int64  \n",
      " 19  STATUS          777715 non-null  object \n",
      "dtypes: float64(2), int64(9), object(9)\n",
      "memory usage: 118.7+ MB\n"
     ]
    }
   ],
   "source": [
    "data.info()\n"
   ]
  },
  {
   "cell_type": "code",
   "execution_count": 49,
   "metadata": {},
   "outputs": [
    {
     "data": {
      "text/html": [
       "<div>\n",
       "<style scoped>\n",
       "    .dataframe tbody tr th:only-of-type {\n",
       "        vertical-align: middle;\n",
       "    }\n",
       "\n",
       "    .dataframe tbody tr th {\n",
       "        vertical-align: top;\n",
       "    }\n",
       "\n",
       "    .dataframe thead th {\n",
       "        text-align: right;\n",
       "    }\n",
       "</style>\n",
       "<table border=\"1\" class=\"dataframe\">\n",
       "  <thead>\n",
       "    <tr style=\"text-align: right;\">\n",
       "      <th></th>\n",
       "      <th>ID</th>\n",
       "      <th>ChldNo</th>\n",
       "      <th>inc</th>\n",
       "      <th>DAYS_BIRTH</th>\n",
       "      <th>DAYS_EMPLOYED</th>\n",
       "      <th>FLAG_MOBIL</th>\n",
       "      <th>wkphone</th>\n",
       "      <th>phone</th>\n",
       "      <th>email</th>\n",
       "      <th>famsize</th>\n",
       "      <th>MONTHS_BALANCE</th>\n",
       "    </tr>\n",
       "  </thead>\n",
       "  <tbody>\n",
       "    <tr>\n",
       "      <th>count</th>\n",
       "      <td>7.777150e+05</td>\n",
       "      <td>777715.000000</td>\n",
       "      <td>7.777150e+05</td>\n",
       "      <td>777715.000000</td>\n",
       "      <td>777715.000000</td>\n",
       "      <td>777715.0</td>\n",
       "      <td>777715.000000</td>\n",
       "      <td>777715.000000</td>\n",
       "      <td>777715.000000</td>\n",
       "      <td>777715.000000</td>\n",
       "      <td>777715.000000</td>\n",
       "    </tr>\n",
       "    <tr>\n",
       "      <th>mean</th>\n",
       "      <td>5.078743e+06</td>\n",
       "      <td>0.428082</td>\n",
       "      <td>1.885348e+05</td>\n",
       "      <td>-16124.937046</td>\n",
       "      <td>57775.825016</td>\n",
       "      <td>1.0</td>\n",
       "      <td>0.231818</td>\n",
       "      <td>0.300965</td>\n",
       "      <td>0.091675</td>\n",
       "      <td>2.208837</td>\n",
       "      <td>-19.373564</td>\n",
       "    </tr>\n",
       "    <tr>\n",
       "      <th>std</th>\n",
       "      <td>4.180442e+04</td>\n",
       "      <td>0.745755</td>\n",
       "      <td>1.016225e+05</td>\n",
       "      <td>4104.304018</td>\n",
       "      <td>136471.735391</td>\n",
       "      <td>0.0</td>\n",
       "      <td>0.421993</td>\n",
       "      <td>0.458678</td>\n",
       "      <td>0.288567</td>\n",
       "      <td>0.907380</td>\n",
       "      <td>14.082208</td>\n",
       "    </tr>\n",
       "    <tr>\n",
       "      <th>min</th>\n",
       "      <td>5.008804e+06</td>\n",
       "      <td>0.000000</td>\n",
       "      <td>2.700000e+04</td>\n",
       "      <td>-25152.000000</td>\n",
       "      <td>-15713.000000</td>\n",
       "      <td>1.0</td>\n",
       "      <td>0.000000</td>\n",
       "      <td>0.000000</td>\n",
       "      <td>0.000000</td>\n",
       "      <td>1.000000</td>\n",
       "      <td>-60.000000</td>\n",
       "    </tr>\n",
       "    <tr>\n",
       "      <th>25%</th>\n",
       "      <td>5.044568e+06</td>\n",
       "      <td>0.000000</td>\n",
       "      <td>1.215000e+05</td>\n",
       "      <td>-19453.000000</td>\n",
       "      <td>-3292.000000</td>\n",
       "      <td>1.0</td>\n",
       "      <td>0.000000</td>\n",
       "      <td>0.000000</td>\n",
       "      <td>0.000000</td>\n",
       "      <td>2.000000</td>\n",
       "      <td>-29.000000</td>\n",
       "    </tr>\n",
       "    <tr>\n",
       "      <th>50%</th>\n",
       "      <td>5.069530e+06</td>\n",
       "      <td>0.000000</td>\n",
       "      <td>1.620000e+05</td>\n",
       "      <td>-15760.000000</td>\n",
       "      <td>-1682.000000</td>\n",
       "      <td>1.0</td>\n",
       "      <td>0.000000</td>\n",
       "      <td>0.000000</td>\n",
       "      <td>0.000000</td>\n",
       "      <td>2.000000</td>\n",
       "      <td>-17.000000</td>\n",
       "    </tr>\n",
       "    <tr>\n",
       "      <th>75%</th>\n",
       "      <td>5.115551e+06</td>\n",
       "      <td>1.000000</td>\n",
       "      <td>2.250000e+05</td>\n",
       "      <td>-12716.000000</td>\n",
       "      <td>-431.000000</td>\n",
       "      <td>1.0</td>\n",
       "      <td>0.000000</td>\n",
       "      <td>1.000000</td>\n",
       "      <td>0.000000</td>\n",
       "      <td>3.000000</td>\n",
       "      <td>-8.000000</td>\n",
       "    </tr>\n",
       "    <tr>\n",
       "      <th>max</th>\n",
       "      <td>5.150487e+06</td>\n",
       "      <td>19.000000</td>\n",
       "      <td>1.575000e+06</td>\n",
       "      <td>-7489.000000</td>\n",
       "      <td>365243.000000</td>\n",
       "      <td>1.0</td>\n",
       "      <td>1.000000</td>\n",
       "      <td>1.000000</td>\n",
       "      <td>1.000000</td>\n",
       "      <td>20.000000</td>\n",
       "      <td>0.000000</td>\n",
       "    </tr>\n",
       "  </tbody>\n",
       "</table>\n",
       "</div>"
      ],
      "text/plain": [
       "                 ID         ChldNo           inc     DAYS_BIRTH  \\\n",
       "count  7.777150e+05  777715.000000  7.777150e+05  777715.000000   \n",
       "mean   5.078743e+06       0.428082  1.885348e+05  -16124.937046   \n",
       "std    4.180442e+04       0.745755  1.016225e+05    4104.304018   \n",
       "min    5.008804e+06       0.000000  2.700000e+04  -25152.000000   \n",
       "25%    5.044568e+06       0.000000  1.215000e+05  -19453.000000   \n",
       "50%    5.069530e+06       0.000000  1.620000e+05  -15760.000000   \n",
       "75%    5.115551e+06       1.000000  2.250000e+05  -12716.000000   \n",
       "max    5.150487e+06      19.000000  1.575000e+06   -7489.000000   \n",
       "\n",
       "       DAYS_EMPLOYED  FLAG_MOBIL        wkphone          phone          email  \\\n",
       "count  777715.000000    777715.0  777715.000000  777715.000000  777715.000000   \n",
       "mean    57775.825016         1.0       0.231818       0.300965       0.091675   \n",
       "std    136471.735391         0.0       0.421993       0.458678       0.288567   \n",
       "min    -15713.000000         1.0       0.000000       0.000000       0.000000   \n",
       "25%     -3292.000000         1.0       0.000000       0.000000       0.000000   \n",
       "50%     -1682.000000         1.0       0.000000       0.000000       0.000000   \n",
       "75%      -431.000000         1.0       0.000000       1.000000       0.000000   \n",
       "max    365243.000000         1.0       1.000000       1.000000       1.000000   \n",
       "\n",
       "             famsize  MONTHS_BALANCE  \n",
       "count  777715.000000   777715.000000  \n",
       "mean        2.208837      -19.373564  \n",
       "std         0.907380       14.082208  \n",
       "min         1.000000      -60.000000  \n",
       "25%         2.000000      -29.000000  \n",
       "50%         2.000000      -17.000000  \n",
       "75%         3.000000       -8.000000  \n",
       "max        20.000000        0.000000  "
      ]
     },
     "execution_count": 49,
     "metadata": {},
     "output_type": "execute_result"
    }
   ],
   "source": [
    "data.describe()"
   ]
  },
  {
   "cell_type": "code",
   "execution_count": 50,
   "metadata": {},
   "outputs": [
    {
     "data": {
      "text/html": [
       "<div>\n",
       "<style scoped>\n",
       "    .dataframe tbody tr th:only-of-type {\n",
       "        vertical-align: middle;\n",
       "    }\n",
       "\n",
       "    .dataframe tbody tr th {\n",
       "        vertical-align: top;\n",
       "    }\n",
       "\n",
       "    .dataframe thead th {\n",
       "        text-align: right;\n",
       "    }\n",
       "</style>\n",
       "<table border=\"1\" class=\"dataframe\">\n",
       "  <thead>\n",
       "    <tr style=\"text-align: right;\">\n",
       "      <th></th>\n",
       "      <th>count</th>\n",
       "      <th>unique</th>\n",
       "      <th>top</th>\n",
       "      <th>freq</th>\n",
       "    </tr>\n",
       "  </thead>\n",
       "  <tbody>\n",
       "    <tr>\n",
       "      <th>Gender</th>\n",
       "      <td>777715</td>\n",
       "      <td>2</td>\n",
       "      <td>F</td>\n",
       "      <td>518851</td>\n",
       "    </tr>\n",
       "    <tr>\n",
       "      <th>Car</th>\n",
       "      <td>777715</td>\n",
       "      <td>2</td>\n",
       "      <td>N</td>\n",
       "      <td>473355</td>\n",
       "    </tr>\n",
       "    <tr>\n",
       "      <th>Reality</th>\n",
       "      <td>777715</td>\n",
       "      <td>2</td>\n",
       "      <td>Y</td>\n",
       "      <td>512948</td>\n",
       "    </tr>\n",
       "    <tr>\n",
       "      <th>inctp</th>\n",
       "      <td>777715</td>\n",
       "      <td>5</td>\n",
       "      <td>Working</td>\n",
       "      <td>400164</td>\n",
       "    </tr>\n",
       "    <tr>\n",
       "      <th>edutp</th>\n",
       "      <td>777715</td>\n",
       "      <td>5</td>\n",
       "      <td>Secondary / secondary special</td>\n",
       "      <td>524261</td>\n",
       "    </tr>\n",
       "    <tr>\n",
       "      <th>famtp</th>\n",
       "      <td>777715</td>\n",
       "      <td>5</td>\n",
       "      <td>Married</td>\n",
       "      <td>546619</td>\n",
       "    </tr>\n",
       "    <tr>\n",
       "      <th>houtp</th>\n",
       "      <td>777715</td>\n",
       "      <td>6</td>\n",
       "      <td>House / apartment</td>\n",
       "      <td>697151</td>\n",
       "    </tr>\n",
       "    <tr>\n",
       "      <th>occyp</th>\n",
       "      <td>537667</td>\n",
       "      <td>18</td>\n",
       "      <td>Laborers</td>\n",
       "      <td>131572</td>\n",
       "    </tr>\n",
       "    <tr>\n",
       "      <th>STATUS</th>\n",
       "      <td>777715</td>\n",
       "      <td>8</td>\n",
       "      <td>C</td>\n",
       "      <td>329536</td>\n",
       "    </tr>\n",
       "  </tbody>\n",
       "</table>\n",
       "</div>"
      ],
      "text/plain": [
       "          count unique                            top    freq\n",
       "Gender   777715      2                              F  518851\n",
       "Car      777715      2                              N  473355\n",
       "Reality  777715      2                              Y  512948\n",
       "inctp    777715      5                        Working  400164\n",
       "edutp    777715      5  Secondary / secondary special  524261\n",
       "famtp    777715      5                        Married  546619\n",
       "houtp    777715      6              House / apartment  697151\n",
       "occyp    537667     18                       Laborers  131572\n",
       "STATUS   777715      8                              C  329536"
      ]
     },
     "execution_count": 50,
     "metadata": {},
     "output_type": "execute_result"
    }
   ],
   "source": [
    "data.describe(include='object').T"
   ]
  },
  {
   "cell_type": "code",
   "execution_count": 51,
   "metadata": {},
   "outputs": [
    {
     "data": {
      "text/plain": [
       "<Axes: >"
      ]
     },
     "execution_count": 51,
     "metadata": {},
     "output_type": "execute_result"
    },
    {
     "data": {
      "image/png": "[encoded data removed]",
      "text/plain": [
       "<Figure size 2500x1000 with 3 Axes>"
      ]
     },
     "metadata": {},
     "output_type": "display_data"
    }
   ],
   "source": [
    "msno.bar(data)"
   ]
  },
  {
   "cell_type": "markdown",
   "metadata": {},
   "source": [
    "DATA CLEANING"
   ]
  },
  {
   "cell_type": "code",
   "execution_count": 52,
   "metadata": {},
   "outputs": [
    {
     "data": {
      "text/plain": [
       "occyp             240048\n",
       "ID                     0\n",
       "Car                    0\n",
       "Gender                 0\n",
       "Reality                0\n",
       "ChldNo                 0\n",
       "inctp                  0\n",
       "inc                    0\n",
       "famtp                  0\n",
       "houtp                  0\n",
       "DAYS_BIRTH             0\n",
       "edutp                  0\n",
       "DAYS_EMPLOYED          0\n",
       "FLAG_MOBIL             0\n",
       "phone                  0\n",
       "wkphone                0\n",
       "email                  0\n",
       "famsize                0\n",
       "MONTHS_BALANCE         0\n",
       "STATUS                 0\n",
       "dtype: int64"
      ]
     },
     "execution_count": 52,
     "metadata": {},
     "output_type": "execute_result"
    }
   ],
   "source": [
    "#NULL values in data\n",
    "data.isnull().sum().sort_values(ascending=False)"
   ]
  },
  {
   "cell_type": "code",
   "execution_count": 53,
   "metadata": {},
   "outputs": [
    {
     "data": {
      "text/plain": [
       "np.int64(0)"
      ]
     },
     "execution_count": 53,
     "metadata": {},
     "output_type": "execute_result"
    }
   ],
   "source": [
    "data.duplicated().sum()"
   ]
  },
  {
   "cell_type": "code",
   "execution_count": 54,
   "metadata": {},
   "outputs": [
    {
     "name": "stdout",
     "output_type": "stream",
     "text": [
      "<class 'pandas.core.frame.DataFrame'>\n",
      "RangeIndex: 777715 entries, 0 to 777714\n",
      "Data columns (total 20 columns):\n",
      " #   Column          Non-Null Count   Dtype  \n",
      "---  ------          --------------   -----  \n",
      " 0   ID              777715 non-null  int64  \n",
      " 1   Gender          777715 non-null  object \n",
      " 2   Car             777715 non-null  object \n",
      " 3   Reality         777715 non-null  object \n",
      " 4   ChldNo          777715 non-null  int64  \n",
      " 5   inc             777715 non-null  float64\n",
      " 6   inctp           777715 non-null  object \n",
      " 7   edutp           777715 non-null  object \n",
      " 8   famtp           777715 non-null  object \n",
      " 9   houtp           777715 non-null  object \n",
      " 10  DAYS_BIRTH      777715 non-null  int64  \n",
      " 11  DAYS_EMPLOYED   777715 non-null  int64  \n",
      " 12  FLAG_MOBIL      777715 non-null  int64  \n",
      " 13  wkphone         777715 non-null  int64  \n",
      " 14  phone           777715 non-null  int64  \n",
      " 15  email           777715 non-null  int64  \n",
      " 16  occyp           537667 non-null  object \n",
      " 17  famsize         777715 non-null  float64\n",
      " 18  MONTHS_BALANCE  777715 non-null  int64  \n",
      " 19  STATUS          777715 non-null  object \n",
      "dtypes: float64(2), int64(9), object(9)\n",
      "memory usage: 118.7+ MB\n"
     ]
    }
   ],
   "source": [
    "data.info()"
   ]
  },
  {
   "cell_type": "code",
   "execution_count": 55,
   "metadata": {},
   "outputs": [
    {
     "data": {
      "text/plain": [
       "occyp\n",
       "Laborers                 131572\n",
       "Core staff                77112\n",
       "Sales staff               70362\n",
       "Managers                  67738\n",
       "Drivers                   47678\n",
       "High skill tech staff     31768\n",
       "Accountants               27223\n",
       "Medicine staff            26691\n",
       "Cooking staff             13416\n",
       "Security staff            12400\n",
       "Cleaning staff            11399\n",
       "Private service staff      6714\n",
       "Low-skill Laborers         3623\n",
       "Secretaries                3149\n",
       "Waiters/barmen staff       2557\n",
       "HR staff                   1686\n",
       "IT staff                   1319\n",
       "Realty agents              1260\n",
       "Name: count, dtype: int64"
      ]
     },
     "execution_count": 55,
     "metadata": {},
     "output_type": "execute_result"
    }
   ],
   "source": [
    "data['occyp'].value_counts()"
   ]
  },
  {
   "cell_type": "code",
   "execution_count": 56,
   "metadata": {},
   "outputs": [],
   "source": [
    "#data['occyp'].fillna('Other',inplace=True)\n",
    "data.fillna({'occyp': 'Other'}, inplace=True)"
   ]
  },
  {
   "cell_type": "markdown",
   "metadata": {},
   "source": []
  },
  {
   "cell_type": "code",
   "execution_count": 57,
   "metadata": {},
   "outputs": [
    {
     "data": {
      "text/plain": [
       "occyp\n",
       "Other                    240048\n",
       "Laborers                 131572\n",
       "Core staff                77112\n",
       "Sales staff               70362\n",
       "Managers                  67738\n",
       "Drivers                   47678\n",
       "High skill tech staff     31768\n",
       "Accountants               27223\n",
       "Medicine staff            26691\n",
       "Cooking staff             13416\n",
       "Security staff            12400\n",
       "Cleaning staff            11399\n",
       "Private service staff      6714\n",
       "Low-skill Laborers         3623\n",
       "Secretaries                3149\n",
       "Waiters/barmen staff       2557\n",
       "HR staff                   1686\n",
       "IT staff                   1319\n",
       "Realty agents              1260\n",
       "Name: count, dtype: int64"
      ]
     },
     "execution_count": 57,
     "metadata": {},
     "output_type": "execute_result"
    }
   ],
   "source": [
    "data['occyp'].value_counts()"
   ]
  },
  {
   "cell_type": "code",
   "execution_count": 58,
   "metadata": {},
   "outputs": [
    {
     "name": "stdout",
     "output_type": "stream",
     "text": [
      "<class 'pandas.core.frame.DataFrame'>\n",
      "RangeIndex: 777715 entries, 0 to 777714\n",
      "Data columns (total 20 columns):\n",
      " #   Column          Non-Null Count   Dtype  \n",
      "---  ------          --------------   -----  \n",
      " 0   ID              777715 non-null  int64  \n",
      " 1   Gender          777715 non-null  object \n",
      " 2   Car             777715 non-null  object \n",
      " 3   Reality         777715 non-null  object \n",
      " 4   ChldNo          777715 non-null  int64  \n",
      " 5   inc             777715 non-null  float64\n",
      " 6   inctp           777715 non-null  object \n",
      " 7   edutp           777715 non-null  object \n",
      " 8   famtp           777715 non-null  object \n",
      " 9   houtp           777715 non-null  object \n",
      " 10  DAYS_BIRTH      777715 non-null  int64  \n",
      " 11  DAYS_EMPLOYED   777715 non-null  int64  \n",
      " 12  FLAG_MOBIL      777715 non-null  int64  \n",
      " 13  wkphone         777715 non-null  int64  \n",
      " 14  phone           777715 non-null  int64  \n",
      " 15  email           777715 non-null  int64  \n",
      " 16  occyp           777715 non-null  object \n",
      " 17  famsize         777715 non-null  float64\n",
      " 18  MONTHS_BALANCE  777715 non-null  int64  \n",
      " 19  STATUS          777715 non-null  object \n",
      "dtypes: float64(2), int64(9), object(9)\n",
      "memory usage: 118.7+ MB\n"
     ]
    }
   ],
   "source": [
    "data.info()"
   ]
  },
  {
   "cell_type": "code",
   "execution_count": 59,
   "metadata": {},
   "outputs": [],
   "source": [
    "data.loc[data['STATUS']=='C','STATUS']=6\n",
    "data.loc[data['STATUS']=='X','STATUS']=7\n",
    "data['STATUS']=data['STATUS'].astype(float)"
   ]
  },
  {
   "cell_type": "code",
   "execution_count": 60,
   "metadata": {},
   "outputs": [],
   "source": [
    "def solve(state):\n",
    "    target=''\n",
    "    if state in (2,3,4,5):\n",
    "        target=1 #Risky\n",
    "    else :\n",
    "        target=0 #not Risky\n",
    "        \n",
    "    return target"
   ]
  },
  {
   "cell_type": "code",
   "execution_count": 61,
   "metadata": {},
   "outputs": [],
   "source": [
    "data['Target']=data['STATUS'].apply(solve)"
   ]
  },
  {
   "cell_type": "code",
   "execution_count": 62,
   "metadata": {},
   "outputs": [
    {
     "name": "stdout",
     "output_type": "stream",
     "text": [
      "<class 'pandas.core.frame.DataFrame'>\n",
      "RangeIndex: 777715 entries, 0 to 777714\n",
      "Data columns (total 21 columns):\n",
      " #   Column          Non-Null Count   Dtype  \n",
      "---  ------          --------------   -----  \n",
      " 0   ID              777715 non-null  int64  \n",
      " 1   Gender          777715 non-null  object \n",
      " 2   Car             777715 non-null  object \n",
      " 3   Reality         777715 non-null  object \n",
      " 4   ChldNo          777715 non-null  int64  \n",
      " 5   inc             777715 non-null  float64\n",
      " 6   inctp           777715 non-null  object \n",
      " 7   edutp           777715 non-null  object \n",
      " 8   famtp           777715 non-null  object \n",
      " 9   houtp           777715 non-null  object \n",
      " 10  DAYS_BIRTH      777715 non-null  int64  \n",
      " 11  DAYS_EMPLOYED   777715 non-null  int64  \n",
      " 12  FLAG_MOBIL      777715 non-null  int64  \n",
      " 13  wkphone         777715 non-null  int64  \n",
      " 14  phone           777715 non-null  int64  \n",
      " 15  email           777715 non-null  int64  \n",
      " 16  occyp           777715 non-null  object \n",
      " 17  famsize         777715 non-null  float64\n",
      " 18  MONTHS_BALANCE  777715 non-null  int64  \n",
      " 19  STATUS          777715 non-null  float64\n",
      " 20  Target          777715 non-null  int64  \n",
      "dtypes: float64(3), int64(10), object(8)\n",
      "memory usage: 124.6+ MB\n"
     ]
    }
   ],
   "source": [
    "data.info()"
   ]
  },
  {
   "cell_type": "code",
   "execution_count": 63,
   "metadata": {},
   "outputs": [],
   "source": [
    "#X = data.drop(columns=['STATUS'])\n",
    "#y = data['STATUS']"
   ]
  },
  {
   "cell_type": "code",
   "execution_count": 64,
   "metadata": {},
   "outputs": [
    {
     "data": {
      "text/plain": [
       "\"categorical_columns = X.select_dtypes(include=['object']).columns\\nprint(categorical_columns)\""
      ]
     },
     "execution_count": 64,
     "metadata": {},
     "output_type": "execute_result"
    }
   ],
   "source": [
    "# Assuming X and y are already defined\n",
    "'''categorical_columns = X.select_dtypes(include=['object']).columns\n",
    "print(categorical_columns)'''"
   ]
  },
  {
   "cell_type": "code",
   "execution_count": 65,
   "metadata": {},
   "outputs": [],
   "source": [
    "'''def one_hot_encode_x(X, categorical_columns):\n",
    "    encoder = OneHotEncoder(sparse_output=False, drop='first')\n",
    "    encoded_array_X = encoder.fit_transform(X[categorical_columns])\n",
    "    encoded_df_X = pd.DataFrame(encoded_array_X, columns=encoder.get_feature_names_out(categorical_columns))\n",
    "    X = X.drop(columns=categorical_columns)\n",
    "    X = pd.concat([X, encoded_df_X], axis=1)\n",
    "\n",
    "    return X\n",
    "\n",
    "def one_hot_encode_y(y):\n",
    "    encoder = OneHotEncoder(sparse_output=False)\n",
    "    encoded_array_y = encoder.fit_transform(y.values.reshape(-1, 1))\n",
    "    encoded_df_y = pd.DataFrame(encoded_array_y, columns=[\"Status_\" + str(i) for i in range(encoded_array_y.shape[1])])\n",
    "\n",
    "    return encoded_df_y'''\n",
    "    \n",
    "\n",
    "from sklearn.preprocessing import OneHotEncoder\n",
    "\n",
    "# Assuming `data` is your dataset and `STATUS` is the target column\n",
    "X = data.drop(columns=['STATUS'])\n",
    "categorical_columns = X.select_dtypes(include=['object']).columns\n",
    "\n",
    "# Convert all categorical columns to string type\n",
    "X[categorical_columns] = X[categorical_columns].astype(str)\n",
    "\n",
    "# Function to one-hot encode specified columns in a DataFrame\n",
    "def one_hot_encode_x(X, categorical_columns):\n",
    "    encoder = OneHotEncoder(sparse_output=False, drop='first')\n",
    "    encoded_array_X = encoder.fit_transform(X[categorical_columns])\n",
    "    encoded_df_X = pd.DataFrame(encoded_array_X, columns=encoder.get_feature_names_out(categorical_columns))\n",
    "    X = X.drop(columns=categorical_columns)\n",
    "    X = pd.concat([X, encoded_df_X], axis=1)\n",
    "    return X\n",
    "\n",
    "# Apply the one-hot encoding function\n",
    "X_encoded = one_hot_encode_x(X, categorical_columns)\n",
    "\n",
    "#y_encoded = one_hot_encode_y(y)"
   ]
  },
  {
   "cell_type": "code",
   "execution_count": 66,
   "metadata": {},
   "outputs": [
    {
     "name": "stdout",
     "output_type": "stream",
     "text": [
      "<class 'pandas.core.frame.DataFrame'>\n",
      "RangeIndex: 777715 entries, 0 to 777714\n",
      "Data columns (total 8 columns):\n",
      " #   Column   Non-Null Count   Dtype \n",
      "---  ------   --------------   ----- \n",
      " 0   Gender   777715 non-null  object\n",
      " 1   Car      777715 non-null  object\n",
      " 2   Reality  777715 non-null  object\n",
      " 3   inctp    777715 non-null  object\n",
      " 4   edutp    777715 non-null  object\n",
      " 5   famtp    777715 non-null  object\n",
      " 6   houtp    777715 non-null  object\n",
      " 7   occyp    777715 non-null  object\n",
      "dtypes: object(8)\n",
      "memory usage: 47.5+ MB\n"
     ]
    }
   ],
   "source": [
    "X[categorical_columns].info()\n"
   ]
  },
  {
   "cell_type": "code",
   "execution_count": 67,
   "metadata": {},
   "outputs": [
    {
     "name": "stdout",
     "output_type": "stream",
     "text": [
      "<class 'pandas.core.frame.DataFrame'>\n",
      "RangeIndex: 777715 entries, 0 to 777714\n",
      "Data columns (total 21 columns):\n",
      " #   Column          Non-Null Count   Dtype  \n",
      "---  ------          --------------   -----  \n",
      " 0   ID              777715 non-null  int64  \n",
      " 1   Gender          777715 non-null  object \n",
      " 2   Car             777715 non-null  object \n",
      " 3   Reality         777715 non-null  object \n",
      " 4   ChldNo          777715 non-null  int64  \n",
      " 5   inc             777715 non-null  float64\n",
      " 6   inctp           777715 non-null  object \n",
      " 7   edutp           777715 non-null  object \n",
      " 8   famtp           777715 non-null  object \n",
      " 9   houtp           777715 non-null  object \n",
      " 10  DAYS_BIRTH      777715 non-null  int64  \n",
      " 11  DAYS_EMPLOYED   777715 non-null  int64  \n",
      " 12  FLAG_MOBIL      777715 non-null  int64  \n",
      " 13  wkphone         777715 non-null  int64  \n",
      " 14  phone           777715 non-null  int64  \n",
      " 15  email           777715 non-null  int64  \n",
      " 16  occyp           777715 non-null  object \n",
      " 17  famsize         777715 non-null  float64\n",
      " 18  MONTHS_BALANCE  777715 non-null  int64  \n",
      " 19  STATUS          777715 non-null  float64\n",
      " 20  Target          777715 non-null  int64  \n",
      "dtypes: float64(3), int64(10), object(8)\n",
      "memory usage: 124.6+ MB\n"
     ]
    }
   ],
   "source": [
    "data.info()"
   ]
  },
  {
   "cell_type": "code",
   "execution_count": 68,
   "metadata": {},
   "outputs": [],
   "source": [
    "for col in categorical_columns:\n",
    "    data[col] = pd.Categorical(data[col]).codes  # Assign codes to categories (-1 for NaN)"
   ]
  },
  {
   "cell_type": "code",
   "execution_count": 69,
   "metadata": {},
   "outputs": [
    {
     "name": "stdout",
     "output_type": "stream",
     "text": [
      "<class 'pandas.core.frame.DataFrame'>\n",
      "RangeIndex: 777715 entries, 0 to 777714\n",
      "Data columns (total 21 columns):\n",
      " #   Column          Non-Null Count   Dtype  \n",
      "---  ------          --------------   -----  \n",
      " 0   ID              777715 non-null  int64  \n",
      " 1   Gender          777715 non-null  int8   \n",
      " 2   Car             777715 non-null  int8   \n",
      " 3   Reality         777715 non-null  int8   \n",
      " 4   ChldNo          777715 non-null  int64  \n",
      " 5   inc             777715 non-null  float64\n",
      " 6   inctp           777715 non-null  int8   \n",
      " 7   edutp           777715 non-null  int8   \n",
      " 8   famtp           777715 non-null  int8   \n",
      " 9   houtp           777715 non-null  int8   \n",
      " 10  DAYS_BIRTH      777715 non-null  int64  \n",
      " 11  DAYS_EMPLOYED   777715 non-null  int64  \n",
      " 12  FLAG_MOBIL      777715 non-null  int64  \n",
      " 13  wkphone         777715 non-null  int64  \n",
      " 14  phone           777715 non-null  int64  \n",
      " 15  email           777715 non-null  int64  \n",
      " 16  occyp           777715 non-null  int8   \n",
      " 17  famsize         777715 non-null  float64\n",
      " 18  MONTHS_BALANCE  777715 non-null  int64  \n",
      " 19  STATUS          777715 non-null  float64\n",
      " 20  Target          777715 non-null  int64  \n",
      "dtypes: float64(3), int64(10), int8(8)\n",
      "memory usage: 83.1 MB\n"
     ]
    }
   ],
   "source": [
    "data.info()"
   ]
  },
  {
   "cell_type": "code",
   "execution_count": 70,
   "metadata": {},
   "outputs": [
    {
     "data": {
      "text/html": [
       "<div>\n",
       "<style scoped>\n",
       "    .dataframe tbody tr th:only-of-type {\n",
       "        vertical-align: middle;\n",
       "    }\n",
       "\n",
       "    .dataframe tbody tr th {\n",
       "        vertical-align: top;\n",
       "    }\n",
       "\n",
       "    .dataframe thead th {\n",
       "        text-align: right;\n",
       "    }\n",
       "</style>\n",
       "<table border=\"1\" class=\"dataframe\">\n",
       "  <thead>\n",
       "    <tr style=\"text-align: right;\">\n",
       "      <th></th>\n",
       "      <th>ID</th>\n",
       "      <th>Gender</th>\n",
       "      <th>Car</th>\n",
       "      <th>Reality</th>\n",
       "      <th>ChldNo</th>\n",
       "      <th>inc</th>\n",
       "      <th>inctp</th>\n",
       "      <th>edutp</th>\n",
       "      <th>famtp</th>\n",
       "      <th>houtp</th>\n",
       "      <th>DAYS_BIRTH</th>\n",
       "      <th>DAYS_EMPLOYED</th>\n",
       "      <th>FLAG_MOBIL</th>\n",
       "      <th>wkphone</th>\n",
       "      <th>phone</th>\n",
       "      <th>email</th>\n",
       "      <th>occyp</th>\n",
       "      <th>famsize</th>\n",
       "      <th>MONTHS_BALANCE</th>\n",
       "      <th>STATUS</th>\n",
       "      <th>Target</th>\n",
       "    </tr>\n",
       "  </thead>\n",
       "  <tbody>\n",
       "    <tr>\n",
       "      <th>0</th>\n",
       "      <td>5008804</td>\n",
       "      <td>1</td>\n",
       "      <td>1</td>\n",
       "      <td>1</td>\n",
       "      <td>0</td>\n",
       "      <td>427500.0</td>\n",
       "      <td>4</td>\n",
       "      <td>1</td>\n",
       "      <td>0</td>\n",
       "      <td>4</td>\n",
       "      <td>-12005</td>\n",
       "      <td>-4542</td>\n",
       "      <td>1</td>\n",
       "      <td>1</td>\n",
       "      <td>0</td>\n",
       "      <td>0</td>\n",
       "      <td>12</td>\n",
       "      <td>2.0</td>\n",
       "      <td>0</td>\n",
       "      <td>6.0</td>\n",
       "      <td>0</td>\n",
       "    </tr>\n",
       "    <tr>\n",
       "      <th>1</th>\n",
       "      <td>5008804</td>\n",
       "      <td>1</td>\n",
       "      <td>1</td>\n",
       "      <td>1</td>\n",
       "      <td>0</td>\n",
       "      <td>427500.0</td>\n",
       "      <td>4</td>\n",
       "      <td>1</td>\n",
       "      <td>0</td>\n",
       "      <td>4</td>\n",
       "      <td>-12005</td>\n",
       "      <td>-4542</td>\n",
       "      <td>1</td>\n",
       "      <td>1</td>\n",
       "      <td>0</td>\n",
       "      <td>0</td>\n",
       "      <td>12</td>\n",
       "      <td>2.0</td>\n",
       "      <td>-1</td>\n",
       "      <td>6.0</td>\n",
       "      <td>0</td>\n",
       "    </tr>\n",
       "    <tr>\n",
       "      <th>2</th>\n",
       "      <td>5008804</td>\n",
       "      <td>1</td>\n",
       "      <td>1</td>\n",
       "      <td>1</td>\n",
       "      <td>0</td>\n",
       "      <td>427500.0</td>\n",
       "      <td>4</td>\n",
       "      <td>1</td>\n",
       "      <td>0</td>\n",
       "      <td>4</td>\n",
       "      <td>-12005</td>\n",
       "      <td>-4542</td>\n",
       "      <td>1</td>\n",
       "      <td>1</td>\n",
       "      <td>0</td>\n",
       "      <td>0</td>\n",
       "      <td>12</td>\n",
       "      <td>2.0</td>\n",
       "      <td>-2</td>\n",
       "      <td>6.0</td>\n",
       "      <td>0</td>\n",
       "    </tr>\n",
       "    <tr>\n",
       "      <th>3</th>\n",
       "      <td>5008804</td>\n",
       "      <td>1</td>\n",
       "      <td>1</td>\n",
       "      <td>1</td>\n",
       "      <td>0</td>\n",
       "      <td>427500.0</td>\n",
       "      <td>4</td>\n",
       "      <td>1</td>\n",
       "      <td>0</td>\n",
       "      <td>4</td>\n",
       "      <td>-12005</td>\n",
       "      <td>-4542</td>\n",
       "      <td>1</td>\n",
       "      <td>1</td>\n",
       "      <td>0</td>\n",
       "      <td>0</td>\n",
       "      <td>12</td>\n",
       "      <td>2.0</td>\n",
       "      <td>-3</td>\n",
       "      <td>6.0</td>\n",
       "      <td>0</td>\n",
       "    </tr>\n",
       "    <tr>\n",
       "      <th>4</th>\n",
       "      <td>5008804</td>\n",
       "      <td>1</td>\n",
       "      <td>1</td>\n",
       "      <td>1</td>\n",
       "      <td>0</td>\n",
       "      <td>427500.0</td>\n",
       "      <td>4</td>\n",
       "      <td>1</td>\n",
       "      <td>0</td>\n",
       "      <td>4</td>\n",
       "      <td>-12005</td>\n",
       "      <td>-4542</td>\n",
       "      <td>1</td>\n",
       "      <td>1</td>\n",
       "      <td>0</td>\n",
       "      <td>0</td>\n",
       "      <td>12</td>\n",
       "      <td>2.0</td>\n",
       "      <td>-4</td>\n",
       "      <td>6.0</td>\n",
       "      <td>0</td>\n",
       "    </tr>\n",
       "  </tbody>\n",
       "</table>\n",
       "</div>"
      ],
      "text/plain": [
       "        ID  Gender  Car  Reality  ChldNo       inc  inctp  edutp  famtp  \\\n",
       "0  5008804       1    1        1       0  427500.0      4      1      0   \n",
       "1  5008804       1    1        1       0  427500.0      4      1      0   \n",
       "2  5008804       1    1        1       0  427500.0      4      1      0   \n",
       "3  5008804       1    1        1       0  427500.0      4      1      0   \n",
       "4  5008804       1    1        1       0  427500.0      4      1      0   \n",
       "\n",
       "   houtp  DAYS_BIRTH  DAYS_EMPLOYED  FLAG_MOBIL  wkphone  phone  email  occyp  \\\n",
       "0      4      -12005          -4542           1        1      0      0     12   \n",
       "1      4      -12005          -4542           1        1      0      0     12   \n",
       "2      4      -12005          -4542           1        1      0      0     12   \n",
       "3      4      -12005          -4542           1        1      0      0     12   \n",
       "4      4      -12005          -4542           1        1      0      0     12   \n",
       "\n",
       "   famsize  MONTHS_BALANCE  STATUS  Target  \n",
       "0      2.0               0     6.0       0  \n",
       "1      2.0              -1     6.0       0  \n",
       "2      2.0              -2     6.0       0  \n",
       "3      2.0              -3     6.0       0  \n",
       "4      2.0              -4     6.0       0  "
      ]
     },
     "execution_count": 70,
     "metadata": {},
     "output_type": "execute_result"
    }
   ],
   "source": [
    "data.head()"
   ]
  },
  {
   "cell_type": "code",
   "execution_count": 71,
   "metadata": {},
   "outputs": [
    {
     "data": {
      "text/plain": [
       "Gender\n",
       "0    518851\n",
       "1    258864\n",
       "Name: count, dtype: int64"
      ]
     },
     "execution_count": 71,
     "metadata": {},
     "output_type": "execute_result"
    }
   ],
   "source": [
    "data['Gender'].value_counts()"
   ]
  },
  {
   "cell_type": "code",
   "execution_count": 72,
   "metadata": {},
   "outputs": [],
   "source": [
    "data = data.drop(columns=['Car'])\n",
    "data = data.drop(columns=['Reality']) \n",
    "data = data.drop(columns=['occyp'])\n",
    "data = data.drop(columns=['FLAG_MOBIL'])\n",
    "data = data.drop(columns=['wkphone'])\n",
    "data = data.drop(columns=['STATUS'])\n",
    "data = data.drop(columns=['email'])"
   ]
  },
  {
   "cell_type": "code",
   "execution_count": 73,
   "metadata": {},
   "outputs": [
    {
     "name": "stdout",
     "output_type": "stream",
     "text": [
      "<class 'pandas.core.frame.DataFrame'>\n",
      "RangeIndex: 777715 entries, 0 to 777714\n",
      "Data columns (total 14 columns):\n",
      " #   Column          Non-Null Count   Dtype  \n",
      "---  ------          --------------   -----  \n",
      " 0   ID              777715 non-null  int64  \n",
      " 1   Gender          777715 non-null  int8   \n",
      " 2   ChldNo          777715 non-null  int64  \n",
      " 3   inc             777715 non-null  float64\n",
      " 4   inctp           777715 non-null  int8   \n",
      " 5   edutp           777715 non-null  int8   \n",
      " 6   famtp           777715 non-null  int8   \n",
      " 7   houtp           777715 non-null  int8   \n",
      " 8   DAYS_BIRTH      777715 non-null  int64  \n",
      " 9   DAYS_EMPLOYED   777715 non-null  int64  \n",
      " 10  phone           777715 non-null  int64  \n",
      " 11  famsize         777715 non-null  float64\n",
      " 12  MONTHS_BALANCE  777715 non-null  int64  \n",
      " 13  Target          777715 non-null  int64  \n",
      "dtypes: float64(2), int64(7), int8(5)\n",
      "memory usage: 57.1 MB\n"
     ]
    }
   ],
   "source": [
    "data.info()"
   ]
  },
  {
   "cell_type": "code",
   "execution_count": 74,
   "metadata": {},
   "outputs": [],
   "source": [
    "x=data.drop('Target',axis=1)\n",
    "y=data['Target']"
   ]
  },
  {
   "cell_type": "code",
   "execution_count": 75,
   "metadata": {},
   "outputs": [
    {
     "data": {
      "text/plain": [
       "'from imblearn.combine import SMOTETomek\\nsmk=SMOTETomek(random_state=12)\\nx_res,y_res=smk.fit_resample(x,y)'"
      ]
     },
     "execution_count": 75,
     "metadata": {},
     "output_type": "execute_result"
    }
   ],
   "source": [
    "'''from imblearn.combine import SMOTETomek\n",
    "smk=SMOTETomek(random_state=12)\n",
    "x_res,y_res=smk.fit_resample(x,y)'''\n",
    "\n"
   ]
  },
  {
   "cell_type": "code",
   "execution_count": 76,
   "metadata": {},
   "outputs": [
    {
     "data": {
      "text/plain": [
       "((622172, 13), (622172,))"
      ]
     },
     "execution_count": 76,
     "metadata": {},
     "output_type": "execute_result"
    }
   ],
   "source": [
    "from sklearn.model_selection import train_test_split\n",
    "x_train,x_test,y_train,y_test=train_test_split(x,y,test_size=0.2,random_state=567)\n",
    "x_train.shape,y_train.shape"
   ]
  },
  {
   "cell_type": "code",
   "execution_count": 77,
   "metadata": {},
   "outputs": [
    {
     "name": "stdout",
     "output_type": "stream",
     "text": [
      "Original training dataset size: ((622172, 13), (622172,))\n",
      "Resampled training dataset size: ((1239852, 13), (1239852,))\n"
     ]
    }
   ],
   "source": [
    "from imblearn.over_sampling import SMOTE\n",
    "smote = SMOTE(random_state=42)\n",
    "x_train_resampled, y_train_resampled = smote.fit_resample(x_train, y_train)\n",
    "print(f\"Original training dataset size: {x_train.shape, y_train.shape}\")\n",
    "print(f\"Resampled training dataset size: {x_train_resampled.shape, y_train_resampled.shape}\")"
   ]
  },
  {
   "cell_type": "code",
   "execution_count": 78,
   "metadata": {},
   "outputs": [],
   "source": [
    "## import libraries\n",
    "from sklearn.linear_model import LogisticRegression\n",
    "from sklearn.svm import SVC\n",
    "from sklearn.ensemble import RandomForestClassifier\n",
    "from sklearn.tree import DecisionTreeClassifier\n",
    "from sklearn.naive_bayes import GaussianNB\n",
    "from sklearn.neighbors import KNeighborsClassifier\n",
    "from sklearn.metrics import ConfusionMatrixDisplay,accuracy_score\n",
    "\n",
    "\n",
    "\n",
    "#model_list=[LogisticRegression,RandomForestClassifier,DecisionTreeClassifier,GaussianNB,KNeighborsClassifier]\n",
    "\n",
    "\n",
    "    \n",
    "    "
   ]
  },
  {
   "cell_type": "code",
   "execution_count": 79,
   "metadata": {},
   "outputs": [
    {
     "data": {
      "image/png": "[encoded data removed]",
      "text/plain": [
       "<Figure size 640x480 with 2 Axes>"
      ]
     },
     "metadata": {},
     "output_type": "display_data"
    }
   ],
   "source": [
    "accuracy =[]\n",
    "'''for model in model_list :\n",
    "    model = model()\n",
    "    model.fit(x_train,y_train)'''\n",
    "    \n",
    "'''# Create an instance of LogisticRegression\n",
    "model = LogisticRegression()\n",
    "\n",
    "# Fit the model\n",
    "model.fit(x_train_resampled, y_train_resampled)\n",
    "\n",
    "y_pred = model.predict(x_test)'''\"Engy Wael 202101008 - Lab_3_Tasks.ipynb\"\n",
    "\n",
    "from sklearn.preprocessing import StandardScaler\n",
    "from sklearn.pipeline import Pipeline\n",
    "\n",
    "# Standardize data and fit Logistic Regression\n",
    "scaler = StandardScaler()\n",
    "model = LogisticRegression(solver='saga', max_iter=500, random_state=42)\n",
    "\n",
    "pipeline = Pipeline([\n",
    "    ('scaler', scaler),\n",
    "    ('logistic', model)\n",
    "])\n",
    "\n",
    "pipeline.fit(x_train_resampled, y_train_resampled)\n",
    "\n",
    "# Predict and evaluate\n",
    "y_pred = pipeline.predict(x_test)\n",
    "ConfusionMatrixDisplay.from_predictions(y_test,y_pred)\n",
    "accuracy.append(accuracy_score(y_test,y_pred))"
   ]
  },
  {
   "cell_type": "code",
   "execution_count": 80,
   "metadata": {},
   "outputs": [
    {
     "data": {
      "text/plain": [
       "[0.5949930244369724]"
      ]
     },
     "execution_count": 80,
     "metadata": {},
     "output_type": "execute_result"
    }
   ],
   "source": [
    "accuracy"
   ]
  },
  {
   "cell_type": "code",
   "execution_count": 81,
   "metadata": {},
   "outputs": [
    {
     "data": {
      "image/png": "[encoded data removed]",
      "text/plain": [
       "<Figure size 640x480 with 2 Axes>"
      ]
     },
     "metadata": {},
     "output_type": "display_data"
    }
   ],
   "source": [
    "#accuracy =[]\n",
    "'''for model in model_list :\n",
    "    model = model()\n",
    "    model.fit(x_train,y_train)'''\n",
    "    \n",
    "# Create an instance of LogisticRegression\n",
    "model = RandomForestClassifier()\n",
    "\n",
    "# Fit the model\n",
    "model.fit(x_train_resampled, y_train_resampled)\n",
    "\n",
    "y_pred = model.predict(x_test)\n",
    "ConfusionMatrixDisplay.from_predictions(y_test,y_pred)\n",
    "accuracy.append(accuracy_score(y_test,y_pred))"
   ]
  },
  {
   "cell_type": "code",
   "execution_count": 82,
   "metadata": {},
   "outputs": [
    {
     "data": {
      "text/plain": [
       "[0.5949930244369724, 0.996116829429804]"
      ]
     },
     "execution_count": 82,
     "metadata": {},
     "output_type": "execute_result"
    }
   ],
   "source": [
    "accuracy"
   ]
  },
  {
   "cell_type": "code",
   "execution_count": 83,
   "metadata": {},
   "outputs": [
    {
     "name": "stdout",
     "output_type": "stream",
     "text": [
      "Cross-Validation Scores: [0.99662057 0.99761666 0.99766101 0.99762471 0.99764891]\n",
      "Mean CV Accuracy: 1.00\n",
      "Test Accuracy: 1.00\n"
     ]
    },
    {
     "data": {
      "image/png": "[encoded data removed]",
      "text/plain": [
       "<Figure size 640x480 with 2 Axes>"
      ]
     },
     "metadata": {},
     "output_type": "display_data"
    }
   ],
   "source": [
    "''' # Create an instance of LogisticRegression\n",
    "model = DecisionTreeClassifier()\n",
    "\n",
    "# Fit the model\n",
    "model.fit(x_train_resampled, y_train_resampled)\n",
    "\n",
    "y_pred = model.predict(x_test)\n",
    "ConfusionMatrixDisplay.from_predictions(y_test,y_pred)\n",
    "accuracy.append(accuracy_score(y_test,y_pred))'''\n",
    "\n",
    "from sklearn.tree import DecisionTreeClassifier\n",
    "from sklearn.model_selection import cross_val_score\n",
    "\n",
    "\n",
    "# Create an instance of DecisionTreeClassifier\n",
    "model = DecisionTreeClassifier(random_state=42)\n",
    "\n",
    "# Perform 5-fold cross-validation\n",
    "cv_scores = cross_val_score(model, x_train_resampled, y_train_resampled, cv=5, scoring='accuracy')\n",
    "\n",
    "# Print cross-validation results\n",
    "print(f\"Cross-Validation Scores: {cv_scores}\")\n",
    "print(f\"Mean CV Accuracy: {cv_scores.mean():.2f}\")\n",
    "\n",
    "# Train the model on the full resampled training data\n",
    "model.fit(x_train_resampled, y_train_resampled)\n",
    "\n",
    "# Test the model on the test set\n",
    "y_pred = model.predict(x_test)\n",
    "\n",
    "# Display confusion matrix and test accuracy\n",
    "ConfusionMatrixDisplay.from_predictions(y_test, y_pred)\n",
    "test_accuracy = accuracy_score(y_test, y_pred)\n",
    "print(f\"Test Accuracy: {test_accuracy:.2f}\")\n",
    "\n",
    "# Optionally, store the test accuracy in the accuracy list\n",
    "accuracy.append(test_accuracy)\n"
   ]
  },
  {
   "cell_type": "code",
   "execution_count": 86,
   "metadata": {},
   "outputs": [
    {
     "data": {
      "text/plain": [
       "[0.5949930244369724, 0.996116829429804, 0.9960011058035398]"
      ]
     },
     "execution_count": 86,
     "metadata": {},
     "output_type": "execute_result"
    }
   ],
   "source": [
    "accuracy"
   ]
  },
  {
   "cell_type": "code",
   "execution_count": 88,
   "metadata": {},
   "outputs": [
    {
     "name": "stdout",
     "output_type": "stream",
     "text": [
      "Cross-Validation Scores: [0.99518492 0.99572934 0.99566883 0.99558818 0.99576965]\n",
      "Mean CV Accuracy: 1.00\n",
      "Test Accuracy: 0.99\n"
     ]
    },
    {
     "data": {
      "image/png": "[encoded data removed]",
      "text/plain": [
       "<Figure size 640x480 with 2 Axes>"
      ]
     },
     "metadata": {},
     "output_type": "display_data"
    }
   ],
   "source": [
    "\n",
    "\n",
    "'''  # Create an instance of LogisticRegression\n",
    "model = KNeighborsClassifier()\n",
    "\n",
    "# Fit the model\n",
    "model.fit(x_train_resampled, y_train_resampled)\n",
    "\n",
    "y_pred = model.predict(x_test)\n",
    "ConfusionMatrixDisplay.from_predictions(y_test,y_pred)\n",
    "accuracy.append(accuracy_score(y_test,y_pred))'''\"Engy Wael 202101008 - Lab_3_Tasks.ipynb\"\n",
    "\n",
    "from sklearn.neighbors import KNeighborsClassifier\n",
    "from sklearn.model_selection import cross_val_score\n",
    "from sklearn.metrics import ConfusionMatrixDisplay, accuracy_score\n",
    "from imblearn.over_sampling import SMOTE\n",
    "\n",
    "# Apply SMOTE for oversampling\n",
    "smote = SMOTE(random_state=42)\n",
    "x_train_resampled, y_train_resampled = smote.fit_resample(x_train, y_train)\n",
    "\n",
    "# Create an instance of KNeighborsClassifier\n",
    "model = KNeighborsClassifier()\n",
    "\n",
    "# Perform 5-fold cross-validation\n",
    "cv_scores = cross_val_score(model, x_train_resampled, y_train_resampled, cv=5, scoring='accuracy')\n",
    "\n",
    "# Print cross-validation results\n",
    "print(f\"Cross-Validation Scores: {cv_scores}\")\n",
    "print(f\"Mean CV Accuracy: {cv_scores.mean():.2f}\")\n",
    "\n",
    "# Train the model on the full resampled training data\n",
    "model.fit(x_train_resampled, y_train_resampled)\n",
    "\n",
    "# Test the model on the test set\n",
    "y_pred = model.predict(x_test)\n",
    "\n",
    "# Display confusion matrix and test accuracy\n",
    "ConfusionMatrixDisplay.from_predictions(y_test, y_pred)\n",
    "test_accuracy = accuracy_score(y_test, y_pred)\n",
    "print(f\"Test Accuracy: {test_accuracy:.2f}\")\n",
    "\n",
    "# Optionally, store the test accuracy in the accuracy list\n",
    "accuracy.append(test_accuracy)\n"
   ]
  },
  {
   "cell_type": "code",
   "execution_count": 89,
   "metadata": {},
   "outputs": [
    {
     "data": {
      "text/plain": [
       "[0.5949930244369724,\n",
       " 0.996116829429804,\n",
       " 0.9960011058035398,\n",
       " 0.9934616151160772,\n",
       " 0.9934616151160772]"
      ]
     },
     "execution_count": 89,
     "metadata": {},
     "output_type": "execute_result"
    }
   ],
   "source": [
    "accuracy"
   ]
  },
  {
   "cell_type": "code",
   "execution_count": 90,
   "metadata": {},
   "outputs": [
    {
     "data": {
      "image/png": "[encoded data removed]",
      "text/plain": [
       "<Figure size 640x480 with 2 Axes>"
      ]
     },
     "metadata": {},
     "output_type": "display_data"
    }
   ],
   "source": [
    "\n",
    "\n",
    "  # Create an instance of LogisticRegression\n",
    "model = GaussianNB()\n",
    "\n",
    "\n",
    "# Fit the model\n",
    "model.fit(x_train_resampled, y_train_resampled)\n",
    "\n",
    "y_pred = model.predict(x_test)\n",
    "ConfusionMatrixDisplay.from_predictions(y_test,y_pred)\n",
    "accuracy.append(accuracy_score(y_test,y_pred))"
   ]
  },
  {
   "cell_type": "code",
   "execution_count": 91,
   "metadata": {},
   "outputs": [
    {
     "data": {
      "text/plain": [
       "[0.5949930244369724,\n",
       " 0.996116829429804,\n",
       " 0.9960011058035398,\n",
       " 0.9934616151160772,\n",
       " 0.9934616151160772,\n",
       " 0.6247982872903313]"
      ]
     },
     "execution_count": 91,
     "metadata": {},
     "output_type": "execute_result"
    }
   ],
   "source": [
    "accuracy"
   ]
  },
  {
   "cell_type": "markdown",
   "metadata": {},
   "source": [
    "Based on the accuracy values, the best model is Random Forest Classifier with accuracy 99.6%"
   ]
  }
 ],
 "metadata": {
  "kernelspec": {
   "display_name": "Python 3",
   "language": "python",
   "name": "python3"
  },
  "language_info": {
   "codemirror_mode": {
    "name": "ipython",
    "version": 3
   },
   "file_extension": ".py",
   "mimetype": "text/x-python",
   "name": "python",
   "nbconvert_exporter": "python",
   "pygments_lexer": "ipython3",
   "version": "3.12.4"
  }
 },
 "nbformat": 4,
 "nbformat_minor": 2
}
